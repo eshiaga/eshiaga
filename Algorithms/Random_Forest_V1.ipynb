{
  "cells": [
    {
      "cell_type": "markdown",
      "metadata": {
        "id": "view-in-github",
        "colab_type": "text"
      },
      "source": [
        "<a href=\"https://colab.research.google.com/github/eshiaga/eshiaga/blob/main/Algorithms/Random_Forest_V1.ipynb\" target=\"_parent\"><img src=\"https://colab.research.google.com/assets/colab-badge.svg\" alt=\"Open In Colab\"/></a>"
      ]
    },
    {
      "cell_type": "markdown",
      "metadata": {
        "id": "5lGRXJj4ifhC"
      },
      "source": [
        "# Random Forest: Predicting CHD\n",
        "\n",
        "Here is an intersting problem of understanding what factors contribute to CHD and can CHD be predicted by building an analytical model.\n",
        "\n",
        "The next two sections will introduce some basics of CHD, where the dataset is derived from and what are the attributes available in the dataset.\n",
        "\n",
        "### What is coronary heart disease?\n",
        "\n",
        "\n",
        "[Coronary heart disease (CHD)](https://en.wikipedia.org/wiki/Coronary_artery_disease)  is when your coronary arteries (the arteries that supply your heart muscle with oxygen-rich blood) become narrowed by a gradual build-up of fatty material within their walls. These arteries can become narrowed through build-up of plaque, which is made up of cholesterol and other substances. Narrowed arteries can cause symptoms, such as chest pain (angina), shortness of breath, and fatigue.\n",
        "\n",
        "\n",
        "### Dataset Description\n",
        "\n",
        "Data is avaialable at: http://statweb.stanford.edu/~tibs/ElemStatLearn/datasets/\n",
        "And header informtion is available at: http://statweb.stanford.edu/~tibs/ElemStatLearn/datasets/SAheart.info.txt\n",
        "\n",
        "A retrospective sample of **males in a heart-disease high-risk region of the Western Cape, South Africa**. There are roughly two controls per case of CHD. Many of the CHD positive men have undergone blood pressure reduction treatment and other programs to reduce their risk factors after their CHD event. In some cases the measurements were made after these treatments. These data are taken from a larger dataset, described in Rousseauw et al, 1983, South African Medical Journal. "
      ]
    },
    {
      "cell_type": "markdown",
      "metadata": {
        "id": "uRVeRH6vifhF"
      },
      "source": [
        "### Import and load the dataset"
      ]
    },
    {
      "cell_type": "code",
      "execution_count": null,
      "metadata": {
        "id": "kO-eAQHRifhF"
      },
      "outputs": [],
      "source": [
        "import pandas as pd\n",
        "import numpy as np"
      ]
    },
    {
      "cell_type": "code",
      "execution_count": null,
      "metadata": {
        "id": "yFpdqPvYifhG"
      },
      "outputs": [],
      "source": [
        "saheart_ds = pd.read_csv( \"https://drive.google.com/uc?export=download&id=1yRyZMfBQ8anG10GDFsLf15GRYPQqN12b\" )"
      ]
    },
    {
      "cell_type": "code",
      "execution_count": null,
      "metadata": {
        "id": "Xh3Ie81yifhH"
      },
      "outputs": [],
      "source": [
        "saheart_ds.head()"
      ]
    },
    {
      "cell_type": "code",
      "execution_count": null,
      "metadata": {
        "id": "LNgItOBGifhH"
      },
      "outputs": [],
      "source": [
        "saheart_ds.columns"
      ]
    },
    {
      "cell_type": "code",
      "execution_count": null,
      "metadata": {
        "id": "G8QKwzz-ifhH"
      },
      "outputs": [],
      "source": [
        "saheart_ds.info()"
      ]
    },
    {
      "cell_type": "code",
      "execution_count": null,
      "metadata": {
        "id": "3_jWcPxwifhI"
      },
      "outputs": [],
      "source": [
        "saheart_ds.chd.value_counts(normalize=True)"
      ]
    },
    {
      "cell_type": "markdown",
      "metadata": {
        "id": "mq8cv-qLifhI"
      },
      "source": [
        "The class label int the column **chd** indicates if the person has a coronary heart disease: negative (0) or positive (1). \n",
        "\n",
        "Attributes description: \n",
        "- **sbp**:          systolic blood pressure \n",
        "- **tobacco**:      cumulative tobacco (kg) \n",
        "- **ldl**:          low densiity lipoprotein cholesterol \n",
        "- **adiposity**:    the size of the hips compared to the person's height \n",
        "- **famhist**:      family history of heart disease (Present, Absent) \n",
        "- **typea**:        type-A behavior \n",
        "- **obesity**:      BMI index\n",
        "- **alcohol**:      current alcohol consumption \n",
        "- **age**:          age at onset"
      ]
    },
    {
      "cell_type": "markdown",
      "metadata": {
        "id": "QgstahRLifhJ"
      },
      "source": [
        "### Encoding Categorical Features"
      ]
    },
    {
      "cell_type": "code",
      "execution_count": null,
      "metadata": {
        "id": "--8g-EHoifhJ"
      },
      "outputs": [],
      "source": [
        "saheart_model_df = pd.get_dummies( saheart_ds, \n",
        "                                   columns = ['famhist'],\n",
        "                                   drop_first = True)"
      ]
    },
    {
      "cell_type": "code",
      "execution_count": null,
      "metadata": {
        "id": "Jx0UoNfNifhJ"
      },
      "outputs": [],
      "source": [
        "saheart_model_df.head( 10 )"
      ]
    },
    {
      "cell_type": "code",
      "execution_count": null,
      "metadata": {
        "id": "GSX84KUaifhK"
      },
      "outputs": [],
      "source": [
        "saheart_model_df = saheart_model_df.drop( \"row.names\", axis = 1 )"
      ]
    },
    {
      "cell_type": "code",
      "execution_count": null,
      "metadata": {
        "id": "f8sSCIAXifhK"
      },
      "outputs": [],
      "source": [
        "saheart_model_df.columns"
      ]
    },
    {
      "cell_type": "markdown",
      "metadata": {
        "id": "aOhRyfChifhK"
      },
      "source": [
        "## Splitting Dataset into Train and Test"
      ]
    },
    {
      "cell_type": "code",
      "execution_count": null,
      "metadata": {
        "id": "IKkhWYztifhL"
      },
      "outputs": [],
      "source": [
        "from sklearn.model_selection import train_test_split"
      ]
    },
    {
      "cell_type": "code",
      "execution_count": null,
      "metadata": {
        "id": "_A63aRfBifhL"
      },
      "outputs": [],
      "source": [
        "feature_cols = ['sbp', 'tobacco', 'ldl', \n",
        "                'adiposity', 'typea', \n",
        "                'obesity', 'alcohol', \n",
        "                'age', 'famhist_Present' ]\n",
        "\n",
        "train_X, test_X, train_y, test_y = train_test_split(saheart_model_df[feature_cols],\n",
        "                                                    saheart_model_df['chd'],\n",
        "                                                    test_size = 0.3,\n",
        "                                                    random_state = 42 ) "
      ]
    },
    {
      "cell_type": "code",
      "execution_count": null,
      "metadata": {
        "id": "jqPfVKGAifhL"
      },
      "outputs": [],
      "source": [
        "len( train_X )"
      ]
    },
    {
      "cell_type": "code",
      "execution_count": null,
      "metadata": {
        "id": "vDF_MKt9ifhL"
      },
      "outputs": [],
      "source": [
        "len( test_X )"
      ]
    },
    {
      "cell_type": "code",
      "execution_count": null,
      "metadata": {
        "id": "A6wxiQg5ifhL"
      },
      "outputs": [],
      "source": [
        "from sklearn.utils.class_weight import compute_class_weight"
      ]
    },
    {
      "cell_type": "code",
      "execution_count": null,
      "metadata": {
        "id": "moi7S-fnifhL"
      },
      "outputs": [],
      "source": [
        "class_weights = compute_class_weight(class_weight = \"balanced\", \n",
        "                                     classes = np.unique(train_y), \n",
        "                                     y = train_y)\n",
        "class_weights"
      ]
    },
    {
      "cell_type": "code",
      "execution_count": null,
      "metadata": {
        "id": "fpGhJZmGifhM"
      },
      "outputs": [],
      "source": [
        "class_weight={1:1.45, 0:0.761}"
      ]
    },
    {
      "cell_type": "markdown",
      "metadata": {
        "id": "v_64EMMmifhM"
      },
      "source": [
        "## Building Random Forest Model"
      ]
    },
    {
      "cell_type": "code",
      "execution_count": null,
      "metadata": {
        "id": "j_tXeqgbifhM"
      },
      "outputs": [],
      "source": [
        "from sklearn.ensemble import RandomForestClassifier"
      ]
    },
    {
      "cell_type": "code",
      "execution_count": null,
      "metadata": {
        "id": "6GuFxNIQifhM"
      },
      "outputs": [],
      "source": [
        "rf_clf = RandomForestClassifier(n_estimators=100, \n",
        "                                max_depth=6,\n",
        "                                max_features=0.3,\n",
        "                                max_samples=0.5,\n",
        "                                class_weight={1:0.65, 0:0.35},\n",
        "                                random_state=100)"
      ]
    },
    {
      "cell_type": "code",
      "execution_count": null,
      "metadata": {
        "id": "pfuRVnlhifhM"
      },
      "outputs": [],
      "source": [
        "rf_clf.fit(train_X, train_y)"
      ]
    },
    {
      "cell_type": "markdown",
      "metadata": {
        "id": "R1jDzOyoifhM"
      },
      "source": [
        "### Predicting in test set using the model"
      ]
    },
    {
      "cell_type": "code",
      "execution_count": null,
      "metadata": {
        "id": "Majq-IbZifhM"
      },
      "outputs": [],
      "source": [
        "saheart_test_results = pd.DataFrame( { 'actual':  test_y, \n",
        "                                       'predicted': rf_clf.predict( test_X ) } )"
      ]
    },
    {
      "cell_type": "code",
      "execution_count": null,
      "metadata": {
        "id": "0iL6UE2CifhM"
      },
      "outputs": [],
      "source": [
        "saheart_test_results = saheart_test_results.reset_index()\n",
        "saheart_test_results.head()"
      ]
    },
    {
      "cell_type": "markdown",
      "metadata": {
        "id": "5yu0vao7ifhM"
      },
      "source": [
        "## Model Evaluation"
      ]
    },
    {
      "cell_type": "markdown",
      "metadata": {
        "id": "yTzfeUkeifhM"
      },
      "source": [
        "### Confusion Matrix"
      ]
    },
    {
      "cell_type": "code",
      "execution_count": null,
      "metadata": {
        "id": "2goJcTTRifhN"
      },
      "outputs": [],
      "source": [
        "from sklearn.metrics import confusion_matrix, ConfusionMatrixDisplay"
      ]
    },
    {
      "cell_type": "code",
      "execution_count": null,
      "metadata": {
        "id": "DiB-sGQaifhN"
      },
      "outputs": [],
      "source": [
        "cm = confusion_matrix(saheart_test_results.actual, saheart_test_results.predicted, labels=[1,0])\n",
        "ConfusionMatrixDisplay(cm, display_labels = ['CHD', 'No CHD']).plot();"
      ]
    },
    {
      "cell_type": "code",
      "execution_count": null,
      "metadata": {
        "id": "PON5u7JuifhN"
      },
      "outputs": [],
      "source": [
        "from sklearn.metrics import RocCurveDisplay"
      ]
    },
    {
      "cell_type": "code",
      "execution_count": null,
      "metadata": {
        "id": "2qRNh1qLifhN"
      },
      "outputs": [],
      "source": [
        "RocCurveDisplay.from_estimator(rf_clf, test_X, test_y);"
      ]
    },
    {
      "cell_type": "code",
      "execution_count": null,
      "metadata": {
        "id": "Pw2hhVtXifhN"
      },
      "outputs": [],
      "source": [
        "from sklearn.metrics import classification_report"
      ]
    },
    {
      "cell_type": "code",
      "execution_count": null,
      "metadata": {
        "id": "CpYvvUQmifhN"
      },
      "outputs": [],
      "source": [
        "print(classification_report(saheart_test_results.actual,\n",
        "                            saheart_test_results.predicted))"
      ]
    },
    {
      "cell_type": "markdown",
      "metadata": {
        "id": "RIyzS5xDifhN"
      },
      "source": [
        "## Feature Importance"
      ]
    },
    {
      "cell_type": "code",
      "execution_count": null,
      "metadata": {
        "id": "drdXWxi4ifhN"
      },
      "outputs": [],
      "source": [
        "rf_clf.feature_importances_"
      ]
    },
    {
      "cell_type": "code",
      "execution_count": null,
      "metadata": {
        "id": "VgTMkCpKifhN"
      },
      "outputs": [],
      "source": [
        "imp_df = pd.DataFrame({'feature': train_X.columns,\n",
        "                       'importance': rf_clf.feature_importances_})"
      ]
    },
    {
      "cell_type": "code",
      "execution_count": null,
      "metadata": {
        "id": "-aAJlH4LifhN"
      },
      "outputs": [],
      "source": [
        "imp_df = imp_df.sort_values('importance', ascending=False)\n",
        "imp_df"
      ]
    },
    {
      "cell_type": "code",
      "execution_count": null,
      "metadata": {
        "id": "pCC4B26tifhN"
      },
      "outputs": [],
      "source": [
        "imp_df.plot.bar(x='feature', y='importance');"
      ]
    },
    {
      "cell_type": "code",
      "execution_count": null,
      "metadata": {
        "id": "pzsNyZGzifhN"
      },
      "outputs": [],
      "source": [
        "import matplotlib.pyplot as plt\n",
        "from sklearn.tree import plot_tree"
      ]
    },
    {
      "cell_type": "code",
      "execution_count": null,
      "metadata": {
        "id": "h8McCsCAifhN"
      },
      "outputs": [],
      "source": [
        "plt.figure(figsize = (50, 12))\n",
        "plot_tree(rf_clf.estimators_[0],\n",
        "          feature_names = feature_cols,\n",
        "          class_names = ['Not CHD', 'CHD'],\n",
        "          filled = True,\n",
        "          fontsize = 10);"
      ]
    },
    {
      "cell_type": "code",
      "execution_count": null,
      "metadata": {
        "id": "jVVUY99MifhN"
      },
      "outputs": [],
      "source": [
        ""
      ]
    }
  ],
  "metadata": {
    "anaconda-cloud": {},
    "kernelspec": {
      "display_name": "Python 3",
      "language": "python",
      "name": "python3"
    },
    "language_info": {
      "codemirror_mode": {
        "name": "ipython",
        "version": 3
      },
      "file_extension": ".py",
      "mimetype": "text/x-python",
      "name": "python",
      "nbconvert_exporter": "python",
      "pygments_lexer": "ipython3",
      "version": "3.8.3"
    },
    "colab": {
      "name": "Random_Forest_V1.ipynb",
      "provenance": [],
      "include_colab_link": true
    }
  },
  "nbformat": 4,
  "nbformat_minor": 0
}